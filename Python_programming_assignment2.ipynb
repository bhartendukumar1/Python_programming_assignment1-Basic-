{
 "cells": [
  {
   "cell_type": "markdown",
   "id": "55e0a879",
   "metadata": {},
   "source": [
    "1. Write a Python program to convert kilometers to miles?"
   ]
  },
  {
   "cell_type": "code",
   "execution_count": 2,
   "id": "cd764469",
   "metadata": {},
   "outputs": [
    {
     "name": "stdout",
     "output_type": "stream",
     "text": [
      "Enter the Kilometer:4\n",
      "4 KM is equals to 2.5 mile\n"
     ]
    }
   ],
   "source": [
    "km = int(input(\"Enter the Kilometer:\"))\n",
    "mile = km / 1.6\n",
    "print(km, \"KM is equals to\", mile,\"mile\")"
   ]
  },
  {
   "cell_type": "markdown",
   "id": "8cd61676",
   "metadata": {},
   "source": [
    "2. Write a Python program to convert Celsius to Fahrenheit?"
   ]
  },
  {
   "cell_type": "code",
   "execution_count": 8,
   "id": "fdb12269",
   "metadata": {},
   "outputs": [
    {
     "name": "stdout",
     "output_type": "stream",
     "text": [
      "Enter the celcius value:45\n",
      "45.0 celcius in fahrenheit is 113.0\n"
     ]
    }
   ],
   "source": [
    "cel =float(input(\"Enter the celcius value:\"))\n",
    "far =(( 9 * cel) + 160) / 5\n",
    "print(cel, \"celcius in fahrenheit is\",far)"
   ]
  },
  {
   "cell_type": "markdown",
   "id": "e627a01c",
   "metadata": {},
   "source": [
    "3. Write a Python program to display calendar?"
   ]
  },
  {
   "cell_type": "code",
   "execution_count": 11,
   "id": "59ea17f0",
   "metadata": {},
   "outputs": [
    {
     "name": "stdout",
     "output_type": "stream",
     "text": [
      "Enter Year: 2022\n",
      "Enter Month: 2\n",
      "   February 2022\n",
      "Mo Tu We Th Fr Sa Su\n",
      "    1  2  3  4  5  6\n",
      " 7  8  9 10 11 12 13\n",
      "14 15 16 17 18 19 20\n",
      "21 22 23 24 25 26 27\n",
      "28\n",
      "\n"
     ]
    }
   ],
   "source": [
    "import calendar\n",
    "YYYY = int(input(\"Enter Year: \"))\n",
    "MM = int(input(\"Enter Month: \"))\n",
    "print(calendar.month(YYYY,MM))"
   ]
  },
  {
   "cell_type": "markdown",
   "id": "6c13f22f",
   "metadata": {},
   "source": [
    "4. Write a Python program to solve quadratic equation?"
   ]
  },
  {
   "cell_type": "code",
   "execution_count": 7,
   "id": "9f0bad64",
   "metadata": {},
   "outputs": [
    {
     "name": "stdout",
     "output_type": "stream",
     "text": [
      "Enter the value of a: 9\n",
      "Enter the value of b: 8\n",
      "Enter the value of c: 0\n",
      "Two distinct real roots are -7.56 and -8.44\n"
     ]
    }
   ],
   "source": [
    "import math\n",
    "a = int(input(\"Enter the value of a: \"))\n",
    "b = int(input(\"Enter the value of b: \"))\n",
    "c = int(input(\"Enter the value of c: \"))\n",
    "\n",
    "#we have to calculate discriminant \n",
    "D = (b**2)-(4*a*c)\n",
    "\n",
    "#we have to check condition of discrimimnant also\n",
    "\n",
    "if (D > 0):\n",
    "    root1 = (-b + math.sqrt(D) / (2*a))\n",
    "    root2 = (-b - math.sqrt(D) / (2*a))\n",
    "    print(\"Two distinct real roots are %.2f and %.2f\"%(root1, root2))\n",
    "elif(D == 0):\n",
    "    root1 = root2 = -b / (2*a)\n",
    "    print(\"Two equal and real roots are %.2f and %.2f\" %(root1, root2))\n",
    "elif(D<0):\n",
    "    root1 = root2 = -b / (2*a)\n",
    "    imaginary = math.sqrt(-D)/(2*a)\n",
    "    print(\"Two distinct complex roots are %.2f + %.2f and %.2f - %.2f\" %(root1, imaginary, root2, imaginary))\n"
   ]
  },
  {
   "cell_type": "markdown",
   "id": "f4f7c0ac",
   "metadata": {},
   "source": [
    "5.Write a Python program to swap two variables without temp variable?"
   ]
  },
  {
   "cell_type": "code",
   "execution_count": 8,
   "id": "ff5fecfc",
   "metadata": {},
   "outputs": [
    {
     "name": "stdout",
     "output_type": "stream",
     "text": [
      "4 2\n"
     ]
    }
   ],
   "source": [
    "a = 2\n",
    "b = 4\n",
    "a,b = b,a\n",
    "print(a,b)"
   ]
  },
  {
   "cell_type": "code",
   "execution_count": null,
   "id": "74df88e1",
   "metadata": {},
   "outputs": [],
   "source": []
  }
 ],
 "metadata": {
  "kernelspec": {
   "display_name": "Python 3 (ipykernel)",
   "language": "python",
   "name": "python3"
  },
  "language_info": {
   "codemirror_mode": {
    "name": "ipython",
    "version": 3
   },
   "file_extension": ".py",
   "mimetype": "text/x-python",
   "name": "python",
   "nbconvert_exporter": "python",
   "pygments_lexer": "ipython3",
   "version": "3.10.2"
  }
 },
 "nbformat": 4,
 "nbformat_minor": 5
}
