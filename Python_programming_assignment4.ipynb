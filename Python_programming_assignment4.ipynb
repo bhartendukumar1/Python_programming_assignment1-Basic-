{
 "cells": [
  {
   "cell_type": "markdown",
   "id": "de135433",
   "metadata": {},
   "source": [
    "1.Write a Python Program to Find the Factorial of a Number"
   ]
  },
  {
   "cell_type": "code",
   "execution_count": 47,
   "id": "1dc19ee4",
   "metadata": {},
   "outputs": [
    {
     "name": "stdout",
     "output_type": "stream",
     "text": [
      "Enter the number whose factorial is to be found: 7\n",
      "factorial of 7 is: 5040\n"
     ]
    }
   ],
   "source": [
    "i =1\n",
    "fact = 1\n",
    "n = int(input(\"Enter the number whose factorial is to be found: \"))\n",
    "while i <= n:\n",
    "    fact = fact * i\n",
    "    i= i+1\n",
    "print(\"factorial of\",n, \"is:\",fact)"
   ]
  },
  {
   "cell_type": "markdown",
   "id": "6022b71f",
   "metadata": {},
   "source": [
    "2. Write a Python Program to Display the multiplication Table"
   ]
  },
  {
   "cell_type": "code",
   "execution_count": 12,
   "id": "c679ada1",
   "metadata": {},
   "outputs": [
    {
     "name": "stdout",
     "output_type": "stream",
     "text": [
      "enter the number, whose multiplication table is to be found:6\n",
      "6 * 1 = 6\n",
      "6 * 2 = 12\n",
      "6 * 3 = 18\n",
      "6 * 4 = 24\n",
      "6 * 5 = 30\n",
      "6 * 6 = 36\n",
      "6 * 7 = 42\n",
      "6 * 8 = 48\n",
      "6 * 9 = 54\n",
      "6 * 10 = 60\n"
     ]
    }
   ],
   "source": [
    "m = int(input(\"enter the number, whose multiplication table is to be found:\"))\n",
    "for i in range(1, 11):\n",
    "    print(m ,\"*\", i, \"=\", m*i)"
   ]
  },
  {
   "cell_type": "markdown",
   "id": "1daf79a6",
   "metadata": {},
   "source": [
    " 3. Write a Python Program to Print the Fibonacci sequence"
   ]
  },
  {
   "cell_type": "code",
   "execution_count": 21,
   "id": "a0167a25",
   "metadata": {},
   "outputs": [
    {
     "name": "stdout",
     "output_type": "stream",
     "text": [
      "Enter the term that you want to show fibonacci sequence: 8\n",
      "the Fibonacci sequence of the number is: \n",
      "0\n",
      "1\n",
      "1\n",
      "2\n",
      "3\n",
      "5\n",
      "8\n",
      "13\n"
     ]
    }
   ],
   "source": [
    "t = int(input(\"Enter the term that you want to show fibonacci sequence: \"))\n",
    "n1,n2,count = 0,1,0\n",
    "print(\"the Fibonacci sequence of the number is: \")\n",
    "while count< t:\n",
    "    print(n1)\n",
    "    n1,n2=n2, n1+n2\n",
    "    count+=1"
   ]
  },
  {
   "cell_type": "markdown",
   "id": "b8294b91",
   "metadata": {},
   "source": [
    "4. Write a Python Program to Check Armstrong Number"
   ]
  },
  {
   "cell_type": "code",
   "execution_count": 29,
   "id": "899312e6",
   "metadata": {},
   "outputs": [
    {
     "name": "stdout",
     "output_type": "stream",
     "text": [
      "Enter the number, to check this is Armstrong or not: 407\n",
      "407 is an Armstrong number\n"
     ]
    }
   ],
   "source": [
    "n = int(input(\"Enter the number, to check this is Armstrong or not: \"))\n",
    "sum = 0\n",
    "temp = n\n",
    "while temp>0:\n",
    "    digit = temp%10\n",
    "    sum += digit ** 3\n",
    "    temp //= 10\n",
    "if n == sum:\n",
    "    print(n,\"is an Armstrong number\")\n",
    "else:\n",
    "    print(n, \"is not Armstrong number\")"
   ]
  },
  {
   "cell_type": "markdown",
   "id": "2f6786fa",
   "metadata": {},
   "source": [
    "5. Write a Python Program to Find Armstrong Number in an Interval"
   ]
  },
  {
   "cell_type": "code",
   "execution_count": 40,
   "id": "0f42ecbf",
   "metadata": {},
   "outputs": [
    {
     "name": "stdout",
     "output_type": "stream",
     "text": [
      "Enter the lower bound: 100\n",
      "Enter  the upper bound: 1000\n",
      "153\n",
      "370\n",
      "371\n",
      "407\n"
     ]
    }
   ],
   "source": [
    "lower_bound = int(input(\"Enter the lower bound: \"))\n",
    "upper_bound = int(input(\"Enter  the upper bound: \"))\n",
    "for n in range(lower_bound, upper_bound + 1):\n",
    "    power = len(str(n))\n",
    "    sum = 0\n",
    "    temp = n\n",
    "    while temp>0:\n",
    "        digit = temp%10\n",
    "        sum += digit ** power\n",
    "        temp //= 10\n",
    "    if n == sum:\n",
    "        print(n)"
   ]
  },
  {
   "cell_type": "markdown",
   "id": "83f4373c",
   "metadata": {},
   "source": [
    "6. Write a Python Program to Find the Sum of Natural Numbers"
   ]
  },
  {
   "cell_type": "code",
   "execution_count": 45,
   "id": "917547ca",
   "metadata": {},
   "outputs": [
    {
     "name": "stdout",
     "output_type": "stream",
     "text": [
      "Enter the number: 25\n",
      "the sum of Natural Numbers from 1 to 25 is = 325\n"
     ]
    }
   ],
   "source": [
    "temp = 0\n",
    "r = int(input(\"Enter the number: \"))\n",
    "for i in range(1,r+1):\n",
    "    temp = temp+i\n",
    "print(\"the sum of Natural Numbers from 1 to\",r,\"is =\",temp)"
   ]
  },
  {
   "cell_type": "code",
   "execution_count": null,
   "id": "9bea75fe",
   "metadata": {},
   "outputs": [],
   "source": []
  }
 ],
 "metadata": {
  "kernelspec": {
   "display_name": "Python 3 (ipykernel)",
   "language": "python",
   "name": "python3"
  },
  "language_info": {
   "codemirror_mode": {
    "name": "ipython",
    "version": 3
   },
   "file_extension": ".py",
   "mimetype": "text/x-python",
   "name": "python",
   "nbconvert_exporter": "python",
   "pygments_lexer": "ipython3",
   "version": "3.10.2"
  }
 },
 "nbformat": 4,
 "nbformat_minor": 5
}
