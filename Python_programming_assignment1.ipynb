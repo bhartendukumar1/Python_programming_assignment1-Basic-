{
 "cells": [
  {
   "cell_type": "markdown",
   "id": "055fb5f6",
   "metadata": {},
   "source": [
    "1. Write a Python program to print \"Hello Python\"."
   ]
  },
  {
   "cell_type": "code",
   "execution_count": 1,
   "id": "ece0b503",
   "metadata": {},
   "outputs": [
    {
     "name": "stdout",
     "output_type": "stream",
     "text": [
      "Hello Python\n"
     ]
    }
   ],
   "source": [
    "print(\"Hello Python\")"
   ]
  },
  {
   "cell_type": "markdown",
   "id": "fab8c3b9",
   "metadata": {},
   "source": [
    "2. Write a Python program to do arithmetical operations addition and division."
   ]
  },
  {
   "cell_type": "code",
   "execution_count": 2,
   "id": "690f252b",
   "metadata": {},
   "outputs": [],
   "source": [
    "add = 2 + 3\n",
    "div = 6/2"
   ]
  },
  {
   "cell_type": "markdown",
   "id": "200f23d7",
   "metadata": {},
   "source": [
    "3. Write a Python program to find the area of a triangle."
   ]
  },
  {
   "cell_type": "code",
   "execution_count": 3,
   "id": "939183a4",
   "metadata": {},
   "outputs": [
    {
     "name": "stdout",
     "output_type": "stream",
     "text": [
      "Enter the base:3\n",
      "Enter the height4\n",
      "The area of triangle is 6.0\n"
     ]
    }
   ],
   "source": [
    "b = int(input(\"Enter the base:\"))\n",
    "h = int(input(\"Enter the height\"))\n",
    "AOT = 1/2 * b * h\n",
    "print(\"The area of triangle is\", AOT)"
   ]
  },
  {
   "cell_type": "markdown",
   "id": "4f9a767f",
   "metadata": {},
   "source": []
  },
  {
   "cell_type": "markdown",
   "id": "df081665",
   "metadata": {},
   "source": [
    "4. Write a Python program to swap two variables?"
   ]
  },
  {
   "cell_type": "code",
   "execution_count": 6,
   "id": "0922306d",
   "metadata": {},
   "outputs": [
    {
     "name": "stdout",
     "output_type": "stream",
     "text": [
      "4 2\n"
     ]
    }
   ],
   "source": [
    "a=2\n",
    "b=4\n",
    "a,b =b,a\n",
    "print(a,b)"
   ]
  },
  {
   "cell_type": "markdown",
   "id": "c3b7a7bd",
   "metadata": {},
   "source": [
    "5. Write a Python program to generate a random number?"
   ]
  },
  {
   "cell_type": "code",
   "execution_count": 18,
   "id": "ea16a7cc",
   "metadata": {},
   "outputs": [
    {
     "data": {
      "text/plain": [
       "0.6940907576639297"
      ]
     },
     "execution_count": 18,
     "metadata": {},
     "output_type": "execute_result"
    }
   ],
   "source": [
    "import random\n",
    "random.random()    "
   ]
  },
  {
   "cell_type": "code",
   "execution_count": null,
   "id": "686ed8d9",
   "metadata": {},
   "outputs": [],
   "source": []
  }
 ],
 "metadata": {
  "kernelspec": {
   "display_name": "Python 3 (ipykernel)",
   "language": "python",
   "name": "python3"
  },
  "language_info": {
   "codemirror_mode": {
    "name": "ipython",
    "version": 3
   },
   "file_extension": ".py",
   "mimetype": "text/x-python",
   "name": "python",
   "nbconvert_exporter": "python",
   "pygments_lexer": "ipython3",
   "version": "3.10.2"
  }
 },
 "nbformat": 4,
 "nbformat_minor": 5
}
